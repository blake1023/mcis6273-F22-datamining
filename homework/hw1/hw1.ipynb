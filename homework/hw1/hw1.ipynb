{
 "cells": [
  {
   "cell_type": "code",
   "execution_count": 1,
   "id": "fbe4f3a1-249d-4dfd-9092-9a4fde9456bd",
   "metadata": {},
   "outputs": [],
   "source": [
    "import requests "
   ]
  },
  {
   "cell_type": "code",
   "execution_count": 10,
   "id": "4c24cd25-1542-47ca-af11-aa9eac03805c",
   "metadata": {},
   "outputs": [],
   "source": [
    "r = requests.get(\"https://www.nhtsa.gov/research-data/fatality-analysis-reporting-system-fars\")\n",
    "\n",
    "if r.status_code == 200:\n",
    "    data = r.text"
   ]
  },
  {
   "cell_type": "code",
   "execution_count": 9,
   "id": "85a1f54f-7ff7-4308-825f-8c2f83625a5a",
   "metadata": {},
   "outputs": [
    {
     "data": {
      "text/plain": [
       "[b'<!DOCTYPE',\n",
       " b'html>',\n",
       " b'<html',\n",
       " b'lang=\"en\"',\n",
       " b'dir=\"ltr\"',\n",
       " b'prefix=\"og:',\n",
       " b'https://ogp.me/ns#\">',\n",
       " b'<head>',\n",
       " b'<title>Fatality',\n",
       " b'Analysis']"
      ]
     },
     "execution_count": 9,
     "metadata": {},
     "output_type": "execute_result"
    }
   ],
   "source": [
    "data.split()[:10]"
   ]
  },
  {
   "cell_type": "code",
   "execution_count": null,
   "id": "415df45b-a786-4a32-b536-e16cb7645985",
   "metadata": {},
   "outputs": [],
   "source": []
  }
 ],
 "metadata": {
  "kernelspec": {
   "display_name": "Python 3 (ipykernel)",
   "language": "python",
   "name": "python3"
  },
  "language_info": {
   "codemirror_mode": {
    "name": "ipython",
    "version": 3
   },
   "file_extension": ".py",
   "mimetype": "text/x-python",
   "name": "python",
   "nbconvert_exporter": "python",
   "pygments_lexer": "ipython3",
   "version": "3.10.5"
  }
 },
 "nbformat": 4,
 "nbformat_minor": 5
}
